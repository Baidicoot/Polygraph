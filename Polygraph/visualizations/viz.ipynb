{
 "cells": [
  {
   "cell_type": "code",
   "execution_count": null,
   "metadata": {},
   "outputs": [],
   "source": []
  },
  {
   "cell_type": "code",
   "execution_count": null,
   "metadata": {},
   "outputs": [],
   "source": []
  },
  {
   "cell_type": "code",
   "execution_count": null,
   "metadata": {},
   "outputs": [],
   "source": [
    "import plotly.express as px\n",
    "import plotly.graph_objects as go\n",
    "\n",
    "def calculate_dishonesty_percentages(labels):\n",
    "    dishonesty_percentages = []\n",
    "\n",
    "    for branch_id, sale_completed in labels.items():\n",
    "        dishonesty_count = 0\n",
    "        total_count = 0\n",
    "\n",
    "        for part in branch_id.split('-')[1:]:\n",
    "            dishonesty_value = int(part)\n",
    "            if dishonesty_value > 0:\n",
    "                dishonesty_count += dishonesty_value\n",
    "            total_count += 2\n",
    "\n",
    "        dishonesty_percentage = dishonesty_count / total_count\n",
    "        dishonesty_percentages.append((dishonesty_percentage, sale_completed))\n",
    "\n",
    "    return dishonesty_percentages\n",
    "\n",
    "def plot_success_vs_dishonesty_histograms(dishonesty_percentages):\n",
    "    success_dishonesty = [percentage for percentage, success in dishonesty_percentages if success]\n",
    "    failure_dishonesty = [percentage for percentage, success in dishonesty_percentages if not success]\n",
    "\n",
    "    # Choose the number of bins based on the dataset size\n",
    "    num_bins = int(140 / 10)  # Rule of thumb: number of samples / 10\n",
    "\n",
    "    fig = go.Figure()\n",
    "\n",
    "    fig.add_trace(go.Histogram(x=success_dishonesty,\n",
    "                               nbinsx=12,\n",
    "                               name='Sale Success',\n",
    "                               marker_color='rgb(0, 128, 128)',\n",
    "                               opacity=0.75))\n",
    "\n",
    "    fig.add_trace(go.Histogram(x=failure_dishonesty,\n",
    "                               nbinsx=10,\n",
    "                               name='Sale Failure',\n",
    "                               marker_color='rgb(128, 0, 128)',\n",
    "                               opacity=0.75))\n",
    "\n",
    "    fig.update_layout(title='Histogram: Sale Success vs Dishonesty Percentage',\n",
    "                      xaxis_title='Dishonesty Percentage',\n",
    "                      yaxis_title='Count',\n",
    "                      barmode='overlay')\n",
    "\n",
    "    fig.show()\n",
    "\n",
    "# Load the labels\n",
    "with open(\"dialogues/labels.json\", \"r\") as f:\n",
    "    labels = json.load(f)\n",
    "\n",
    "dishonesty_percentages = calculate_dishonesty_percentages(labels)\n",
    "plot_success_vs_dishonesty_histograms(dishonesty_percentages)\n"
   ]
  }
 ],
 "metadata": {
  "language_info": {
   "name": "python"
  },
  "orig_nbformat": 4
 },
 "nbformat": 4,
 "nbformat_minor": 2
}
